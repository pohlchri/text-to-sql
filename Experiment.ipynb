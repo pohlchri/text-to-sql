{
 "cells": [
  {
   "cell_type": "code",
   "execution_count": null,
   "metadata": {},
   "outputs": [],
   "source": [
    "%pip install sqlalchemy\n",
    "%pip install python-dotenv\n",
    "%pip install databricks-sql-connector "
   ]
  },
  {
   "cell_type": "code",
   "execution_count": 7,
   "metadata": {},
   "outputs": [],
   "source": [
    "import os\n",
    "import requests\n",
    "from IPython.display import Markdown, display\n",
    "from dotenv import load_dotenv\n",
    "from sqlalchemy import create_engine, Table, Column, Integer, String, MetaData, insert , select\n",
    "from sqlalchemy.schema import CreateTable\n",
    "from sqlalchemy import text"
   ]
  },
  {
   "cell_type": "code",
   "execution_count": 8,
   "metadata": {},
   "outputs": [],
   "source": [
    "load_dotenv()\n",
    "\n",
    "GPT4V_KEY = os.getenv(\"AOAI_API_KEY\")\n",
    "GPT4V_ENDPOINT = os.getenv(\"AOAI_ENDPOINT\")\n",
    "OPENAI_API_VERSION = os.getenv(\"AOAI_MODEL_API_VERSION_4o\") "
   ]
  },
  {
   "cell_type": "markdown",
   "metadata": {},
   "source": [
    "## Using Azure Databricks"
   ]
  },
  {
   "cell_type": "code",
   "execution_count": 13,
   "metadata": {},
   "outputs": [],
   "source": [
    "from databricks import sql  \n",
    "  \n",
    "# Connection details  \n",
    "server_hostname = os.getenv(\"DATABRICKS_SERVER_HOSTNAME\")  \n",
    "http_path = os.getenv(\"DATABRICKS_HTTP_PATH\")\n",
    "access_token = os.getenv(\"DATABRICKS_ACCESS_TOKEN\")\n",
    "  \n",
    "# Establish connection  \n",
    "connection = sql.connect(  \n",
    "  server_hostname=server_hostname,  \n",
    "  http_path=http_path,  \n",
    "  access_token=access_token  \n",
    ")  "
   ]
  },
  {
   "cell_type": "code",
   "execution_count": 14,
   "metadata": {},
   "outputs": [
    {
     "name": "stdout",
     "output_type": "stream",
     "text": [
      "Row(city_name='Toronto', population=2930000, country='Canada')\n",
      "Row(city_name='Tokyo', population=13960000, country='Japan')\n",
      "Row(city_name='Chicago', population=2679000, country='United States')\n",
      "Row(city_name='Seoul', population=9776000, country='South Korea')\n"
     ]
    }
   ],
   "source": [
    "# Create a cursor object  \n",
    "cursor = connection.cursor()  \n",
    "  \n",
    "# Define the SQL CREATE TABLE statement as a string  \n",
    "# We cannot enfore the primary key constraint in Delta Lake we would need to enable the Unity catalog\n",
    "create_table_sql = \"\"\"  \n",
    "CREATE TABLE IF NOT EXISTS city_stats (  \n",
    "    city_name STRING,  \n",
    "    population INT,  \n",
    "    country STRING  \n",
    ") USING DELTA;  \n",
    "\"\"\"  \n",
    "  \n",
    "# Execute the SQL command to create the table  \n",
    "cursor.execute(create_table_sql)  \n",
    "\n",
    "# Insert sample data into the table  \n",
    "cursor.execute(\"\"\"  \n",
    "INSERT INTO city_stats VALUES  \n",
    "('Toronto', 2930000, 'Canada'),  \n",
    "('Tokyo', 13960000, 'Japan'),  \n",
    "('Chicago', 2679000, 'United States'),  \n",
    "('Seoul', 9776000, 'South Korea')\n",
    "\"\"\")  \n",
    "  \n",
    "# Commit the transaction  \n",
    "connection.commit()  \n",
    "  \n",
    "# Query the table and fetch results  \n",
    "cursor.execute(\"SELECT * FROM city_stats\")  \n",
    "result = cursor.fetchall()  \n",
    "  \n",
    "# Print the results  \n",
    "for row in result:  \n",
    "    print(row)  "
   ]
  },
  {
   "cell_type": "markdown",
   "metadata": {},
   "source": [
    "## Azure OpenAI text-to-sql into Azure Databricks"
   ]
  },
  {
   "cell_type": "code",
   "execution_count": null,
   "metadata": {},
   "outputs": [],
   "source": [
    "# The prompting schema is used based on this paper https://arxiv.org/abs/2308.15363v2"
   ]
  },
  {
   "cell_type": "code",
   "execution_count": 17,
   "metadata": {},
   "outputs": [],
   "source": [
    "schema_info = \"/* Given the following database schema : */\\n\"+ create_table_sql"
   ]
  },
  {
   "cell_type": "code",
   "execution_count": 23,
   "metadata": {},
   "outputs": [],
   "source": [
    "text_info = \"\"\"/* Answer the following: Sum the total amount of population in all cities containing a o in its name?  \n",
    "↳ */  \n",
    "SELECT\"\"\"  "
   ]
  },
  {
   "cell_type": "code",
   "execution_count": 24,
   "metadata": {},
   "outputs": [],
   "source": [
    "examples = \"\"\"  \n",
    "/* Some example questions and corresponding SQL queries   \n",
    "are provided based on similar problems: */  \n",
    "/* Answer the following: How many authors are there? */  \n",
    "SELECT count(*) FROM authors  \n",
    "  \n",
    "/* Answer the following: How many farms are there? */  \n",
    "SELECT count(*) FROM farm  \n",
    "\"\"\"  \n"
   ]
  },
  {
   "cell_type": "code",
   "execution_count": 25,
   "metadata": {},
   "outputs": [],
   "source": [
    "# Combine the variables into a single text input  \n",
    "text_input = f\"{schema_info} {text_info} {examples}\""
   ]
  },
  {
   "cell_type": "code",
   "execution_count": 26,
   "metadata": {},
   "outputs": [
    {
     "name": "stdout",
     "output_type": "stream",
     "text": [
      "SELECT SUM(population) \n",
      "FROM city_stats \n",
      "WHERE city_name LIKE '%o%';\n"
     ]
    }
   ],
   "source": [
    "import requests\n",
    "headers = {\n",
    "    \"Content-Type\": \"application/json\",\n",
    "    \"api-key\": GPT4V_KEY,\n",
    "}\n",
    "# Payload for the request\n",
    "payload = {\n",
    "  \"messages\": [\n",
    "    {\n",
    "      \"role\": \"system\",\n",
    "      \"content\": [\n",
    "        {\n",
    "          \"type\": \"text\",\n",
    "          \"text\": \"You are an AI assistant that helps to compile text to SQL statements. Just pure SQL nothing more no need to say '''sql '''. You use the Databricks SQL Dialect\"\n",
    "        }\n",
    "      ]\n",
    "    },\n",
    "    {\n",
    "      \"role\": \"user\",\n",
    "      \"content\": [\n",
    "        {\n",
    "          \"type\": \"text\",\n",
    "          \"text\": text_input\n",
    "        }\n",
    "      ]\n",
    "    }\n",
    "  ],\n",
    "  \"temperature\": 0.1,\n",
    "  \"top_p\": 0.95,\n",
    "  \"max_tokens\": 800\n",
    "}\n",
    "\n",
    "# Send request\n",
    "try:\n",
    "    response = requests.post(GPT4V_ENDPOINT, headers=headers, json=payload)\n",
    "    response.raise_for_status()  # Will raise an HTTPError if the HTTP request returned an unsuccessful status code\n",
    "except requests.RequestException as e:\n",
    "    raise SystemExit(f\"Failed to make the request. Error: {e}\")\n",
    "\n",
    "# Handle the response as needed (e.g., print or process)\n",
    "response_data = response.json()  \n",
    "chat_output = response_data['choices'][0]['message']['content']  \n",
    "print(chat_output)"
   ]
  },
  {
   "cell_type": "code",
   "execution_count": 27,
   "metadata": {},
   "outputs": [
    {
     "name": "stdout",
     "output_type": "stream",
     "text": [
      "Row(sum(population)=29345000)\n"
     ]
    }
   ],
   "source": [
    "# Query the table and fetch results  \n",
    "cursor.execute(chat_output)  \n",
    "result = cursor.fetchall()  \n",
    "  \n",
    "# Print the results  \n",
    "for row in result:  \n",
    "    print(row)  "
   ]
  },
  {
   "cell_type": "code",
   "execution_count": 6,
   "metadata": {},
   "outputs": [],
   "source": [
    "# SQL command to drop the table  \n",
    "drop_table_sql = \"DROP TABLE IF EXISTS city_stats;\"  \n",
    "  \n",
    "# Execute the drop table command  \n",
    "cursor.execute(drop_table_sql)  \n",
    "  \n",
    "# Close the cursor and connection  \n",
    "cursor.close()  \n",
    "connection.close()  "
   ]
  },
  {
   "cell_type": "markdown",
   "metadata": {},
   "source": [
    "## Optional: With local DB "
   ]
  },
  {
   "cell_type": "code",
   "execution_count": null,
   "metadata": {},
   "outputs": [],
   "source": [
    "# Define your database engine  \n",
    "engine = create_engine('sqlite:///example.db')  # Example using SQLite  \n",
    "  \n",
    "# Define metadata  \n",
    "metadata = MetaData()  \n",
    "  \n",
    "# Define the city_stats table  \n",
    "city_stats_table = Table('city_stats_table', metadata,   \n",
    "    Column('city_name', String, primary_key=True ),  \n",
    "    Column('population', Integer),  \n",
    "    Column('country', String),  \n",
    ")  \n",
    "  \n",
    "# Create the table in the database  \n",
    "metadata.create_all(engine)  \n",
    "  \n",
    "# Data to be inserted  \n",
    "rows = [  \n",
    "    {\"city_name\": \"Toronto\", \"population\": 2930000, \"country\": \"Canada\"},  \n",
    "    {\"city_name\": \"Tokyo\", \"population\": 13960000, \"country\": \"Japan\"},  \n",
    "    {\"city_name\": \"Chicago\", \"population\": 2679000, \"country\": \"United States\"},  \n",
    "    {\"city_name\": \"Seoul\", \"population\": 9776000, \"country\": \"South Korea\"},  \n",
    "]  \n",
    "  \n",
    "# Insert data  \n",
    "for row in rows:  \n",
    "    stmt = insert(city_stats_table).values(**row)  \n",
    "    with engine.begin() as connection:  \n",
    "        cursor = connection.execute(stmt)  "
   ]
  },
  {
   "cell_type": "code",
   "execution_count": null,
   "metadata": {},
   "outputs": [
    {
     "name": "stdout",
     "output_type": "stream",
     "text": [
      "\n",
      "CREATE TABLE city_stats_table (\n",
      "\tcity_name VARCHAR NOT NULL, \n",
      "\tpopulation INTEGER, \n",
      "\tcountry VARCHAR, \n",
      "\tPRIMARY KEY (city_name)\n",
      ")\n",
      "\n",
      "\n"
     ]
    }
   ],
   "source": [
    "# Generate the CREATE TABLE statement for later usage during prompting\n",
    "create_table_statement = str(CreateTable(city_stats_table).compile(engine))\n",
    "\n",
    "# Print the CREATE TABLE statement\n",
    "print(create_table_statement)"
   ]
  },
  {
   "cell_type": "code",
   "execution_count": null,
   "metadata": {},
   "outputs": [
    {
     "name": "stdout",
     "output_type": "stream",
     "text": [
      "[('Toronto', 2930000, 'Canada'), ('Tokyo', 13960000, 'Japan'), ('Chicago', 2679000, 'United States'), ('Seoul', 9776000, 'South Korea')]\n"
     ]
    }
   ],
   "source": [
    "# view current table\n",
    "stmt = select(\n",
    "    city_stats_table.c.city_name,\n",
    "    city_stats_table.c.population,\n",
    "    city_stats_table.c.country,\n",
    ").select_from(city_stats_table)\n",
    "\n",
    "with engine.connect() as connection:\n",
    "    results = connection.execute(stmt).fetchall()\n",
    "    print(results)"
   ]
  },
  {
   "cell_type": "code",
   "execution_count": null,
   "metadata": {},
   "outputs": [
    {
     "name": "stdout",
     "output_type": "stream",
     "text": [
      "('Chicago',)\n",
      "('Seoul',)\n",
      "('Tokyo',)\n",
      "('Toronto',)\n"
     ]
    }
   ],
   "source": [
    "with engine.connect() as con:\n",
    "    rows = con.execute(text(\"SELECT city_name from city_stats_table\"))\n",
    "    for row in rows:\n",
    "        print(row)"
   ]
  },
  {
   "cell_type": "code",
   "execution_count": null,
   "metadata": {},
   "outputs": [
    {
     "name": "stdout",
     "output_type": "stream",
     "text": [
      "\n",
      "CREATE TABLE city_stats (\n",
      "\tcity_name VARCHAR NOT NULL, \n",
      "\tpopulation INTEGER, \n",
      "\tcountry VARCHAR, \n",
      "\tPRIMARY KEY (city_name)\n",
      ")\n",
      "\n",
      "\n"
     ]
    }
   ],
   "source": [
    "print(create_table_statement)"
   ]
  }
 ],
 "metadata": {
  "kernelspec": {
   "display_name": "Python 3",
   "language": "python",
   "name": "python3"
  },
  "language_info": {
   "codemirror_mode": {
    "name": "ipython",
    "version": 3
   },
   "file_extension": ".py",
   "mimetype": "text/x-python",
   "name": "python",
   "nbconvert_exporter": "python",
   "pygments_lexer": "ipython3",
   "version": "3.11.5"
  }
 },
 "nbformat": 4,
 "nbformat_minor": 2
}
